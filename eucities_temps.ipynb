{
 "cells": [
  {
   "cell_type": "markdown",
   "metadata": {},
   "source": [
    "# Problem 1: EU Cities Temperatures Dataset"
   ]
  },
  {
   "cell_type": "markdown",
   "metadata": {},
   "source": [
    "## Preprocessing/Analysis (28 pts)"
   ]
  },
  {
   "cell_type": "code",
   "execution_count": 1,
   "metadata": {},
   "outputs": [
    {
     "data": {
      "text/html": [
       "<div>\n",
       "<style scoped>\n",
       "    .dataframe tbody tr th:only-of-type {\n",
       "        vertical-align: middle;\n",
       "    }\n",
       "\n",
       "    .dataframe tbody tr th {\n",
       "        vertical-align: top;\n",
       "    }\n",
       "\n",
       "    .dataframe thead th {\n",
       "        text-align: right;\n",
       "    }\n",
       "</style>\n",
       "<table border=\"1\" class=\"dataframe\">\n",
       "  <thead>\n",
       "    <tr style=\"text-align: right;\">\n",
       "      <th></th>\n",
       "      <th>city</th>\n",
       "      <th>country</th>\n",
       "      <th>population</th>\n",
       "      <th>EU</th>\n",
       "      <th>coastline</th>\n",
       "      <th>latitude</th>\n",
       "      <th>longitude</th>\n",
       "      <th>temperature</th>\n",
       "    </tr>\n",
       "  </thead>\n",
       "  <tbody>\n",
       "    <tr>\n",
       "      <td>0</td>\n",
       "      <td>Elbasan</td>\n",
       "      <td>Albania</td>\n",
       "      <td>2.90</td>\n",
       "      <td>no</td>\n",
       "      <td>yes</td>\n",
       "      <td>41.12</td>\n",
       "      <td>20.08</td>\n",
       "      <td>15.18</td>\n",
       "    </tr>\n",
       "    <tr>\n",
       "      <td>1</td>\n",
       "      <td>Andorra</td>\n",
       "      <td>Andorra</td>\n",
       "      <td>0.07</td>\n",
       "      <td>no</td>\n",
       "      <td>no</td>\n",
       "      <td>42.50</td>\n",
       "      <td>1.52</td>\n",
       "      <td>NaN</td>\n",
       "    </tr>\n",
       "    <tr>\n",
       "      <td>2</td>\n",
       "      <td>Innsbruck</td>\n",
       "      <td>Austria</td>\n",
       "      <td>8.57</td>\n",
       "      <td>yes</td>\n",
       "      <td>no</td>\n",
       "      <td>NaN</td>\n",
       "      <td>11.41</td>\n",
       "      <td>4.54</td>\n",
       "    </tr>\n",
       "    <tr>\n",
       "      <td>3</td>\n",
       "      <td>Graz</td>\n",
       "      <td>Austria</td>\n",
       "      <td>8.57</td>\n",
       "      <td>yes</td>\n",
       "      <td>no</td>\n",
       "      <td>47.08</td>\n",
       "      <td>NaN</td>\n",
       "      <td>6.91</td>\n",
       "    </tr>\n",
       "    <tr>\n",
       "      <td>4</td>\n",
       "      <td>Linz</td>\n",
       "      <td>Austria</td>\n",
       "      <td>8.57</td>\n",
       "      <td>yes</td>\n",
       "      <td>no</td>\n",
       "      <td>48.32</td>\n",
       "      <td>14.29</td>\n",
       "      <td>6.79</td>\n",
       "    </tr>\n",
       "    <tr>\n",
       "      <td>...</td>\n",
       "      <td>...</td>\n",
       "      <td>...</td>\n",
       "      <td>...</td>\n",
       "      <td>...</td>\n",
       "      <td>...</td>\n",
       "      <td>...</td>\n",
       "      <td>...</td>\n",
       "      <td>...</td>\n",
       "    </tr>\n",
       "    <tr>\n",
       "      <td>208</td>\n",
       "      <td>Edinburgh</td>\n",
       "      <td>United Kingdom</td>\n",
       "      <td>65.11</td>\n",
       "      <td>yes</td>\n",
       "      <td>yes</td>\n",
       "      <td>55.95</td>\n",
       "      <td>NaN</td>\n",
       "      <td>NaN</td>\n",
       "    </tr>\n",
       "    <tr>\n",
       "      <td>209</td>\n",
       "      <td>Exeter</td>\n",
       "      <td>United Kingdom</td>\n",
       "      <td>65.11</td>\n",
       "      <td>yes</td>\n",
       "      <td>yes</td>\n",
       "      <td>50.70</td>\n",
       "      <td>-3.53</td>\n",
       "      <td>10.14</td>\n",
       "    </tr>\n",
       "    <tr>\n",
       "      <td>210</td>\n",
       "      <td>Inverness</td>\n",
       "      <td>United Kingdom</td>\n",
       "      <td>65.11</td>\n",
       "      <td>yes</td>\n",
       "      <td>yes</td>\n",
       "      <td>NaN</td>\n",
       "      <td>-4.23</td>\n",
       "      <td>8.00</td>\n",
       "    </tr>\n",
       "    <tr>\n",
       "      <td>211</td>\n",
       "      <td>Glasgow</td>\n",
       "      <td>United Kingdom</td>\n",
       "      <td>65.11</td>\n",
       "      <td>yes</td>\n",
       "      <td>yes</td>\n",
       "      <td>55.87</td>\n",
       "      <td>-4.25</td>\n",
       "      <td>8.60</td>\n",
       "    </tr>\n",
       "    <tr>\n",
       "      <td>212</td>\n",
       "      <td>Swansea</td>\n",
       "      <td>United Kingdom</td>\n",
       "      <td>65.11</td>\n",
       "      <td>yes</td>\n",
       "      <td>yes</td>\n",
       "      <td>51.63</td>\n",
       "      <td>-3.95</td>\n",
       "      <td>9.73</td>\n",
       "    </tr>\n",
       "  </tbody>\n",
       "</table>\n",
       "<p>213 rows × 8 columns</p>\n",
       "</div>"
      ],
      "text/plain": [
       "          city         country  population   EU coastline  latitude  \\\n",
       "0      Elbasan         Albania        2.90   no       yes     41.12   \n",
       "1      Andorra         Andorra        0.07   no        no     42.50   \n",
       "2    Innsbruck         Austria        8.57  yes        no       NaN   \n",
       "3         Graz         Austria        8.57  yes        no     47.08   \n",
       "4         Linz         Austria        8.57  yes        no     48.32   \n",
       "..         ...             ...         ...  ...       ...       ...   \n",
       "208  Edinburgh  United Kingdom       65.11  yes       yes     55.95   \n",
       "209     Exeter  United Kingdom       65.11  yes       yes     50.70   \n",
       "210  Inverness  United Kingdom       65.11  yes       yes       NaN   \n",
       "211    Glasgow  United Kingdom       65.11  yes       yes     55.87   \n",
       "212    Swansea  United Kingdom       65.11  yes       yes     51.63   \n",
       "\n",
       "     longitude  temperature  \n",
       "0        20.08        15.18  \n",
       "1         1.52          NaN  \n",
       "2        11.41         4.54  \n",
       "3          NaN         6.91  \n",
       "4        14.29         6.79  \n",
       "..         ...          ...  \n",
       "208        NaN          NaN  \n",
       "209      -3.53        10.14  \n",
       "210      -4.23         8.00  \n",
       "211      -4.25         8.60  \n",
       "212      -3.95         9.73  \n",
       "\n",
       "[213 rows x 8 columns]"
      ]
     },
     "execution_count": 1,
     "metadata": {},
     "output_type": "execute_result"
    }
   ],
   "source": [
    "import pandas as pd\n",
    "import numpy as np\n",
    "import matplotlib.pyplot as plt\n",
    "\n",
    "csv_path = './EuCitiesTemperatures.csv'\n",
    "\n",
    "df = pd.read_csv(csv_path)\n",
    "df"
   ]
  },
  {
   "cell_type": "markdown",
   "metadata": {},
   "source": [
    "### 1. [9 pts] Fill in the missing latitude and longitude values by calculating the average for that country. Round the average to 2 decimal places."
   ]
  },
  {
   "cell_type": "code",
   "execution_count": 2,
   "metadata": {},
   "outputs": [],
   "source": [
    "def fix_nan(_df, _str):\n",
    "    if pd.isna(_df[_str]):\n",
    "        _country = _df.country\n",
    "        mean_v = np.mean(getattr(df[df.country == _country], _str))\n",
    "        return round(mean_v, 2)\n",
    "    else:\n",
    "        return _df[_str]"
   ]
  },
  {
   "cell_type": "code",
   "execution_count": 3,
   "metadata": {},
   "outputs": [
    {
     "data": {
      "text/html": [
       "<div>\n",
       "<style scoped>\n",
       "    .dataframe tbody tr th:only-of-type {\n",
       "        vertical-align: middle;\n",
       "    }\n",
       "\n",
       "    .dataframe tbody tr th {\n",
       "        vertical-align: top;\n",
       "    }\n",
       "\n",
       "    .dataframe thead th {\n",
       "        text-align: right;\n",
       "    }\n",
       "</style>\n",
       "<table border=\"1\" class=\"dataframe\">\n",
       "  <thead>\n",
       "    <tr style=\"text-align: right;\">\n",
       "      <th></th>\n",
       "      <th>city</th>\n",
       "      <th>country</th>\n",
       "      <th>population</th>\n",
       "      <th>EU</th>\n",
       "      <th>coastline</th>\n",
       "      <th>latitude</th>\n",
       "      <th>longitude</th>\n",
       "      <th>temperature</th>\n",
       "    </tr>\n",
       "  </thead>\n",
       "  <tbody>\n",
       "    <tr>\n",
       "      <td>0</td>\n",
       "      <td>Elbasan</td>\n",
       "      <td>Albania</td>\n",
       "      <td>2.90</td>\n",
       "      <td>no</td>\n",
       "      <td>yes</td>\n",
       "      <td>41.12</td>\n",
       "      <td>20.08</td>\n",
       "      <td>15.18</td>\n",
       "    </tr>\n",
       "    <tr>\n",
       "      <td>1</td>\n",
       "      <td>Andorra</td>\n",
       "      <td>Andorra</td>\n",
       "      <td>0.07</td>\n",
       "      <td>no</td>\n",
       "      <td>no</td>\n",
       "      <td>42.50</td>\n",
       "      <td>1.52</td>\n",
       "      <td>NaN</td>\n",
       "    </tr>\n",
       "    <tr>\n",
       "      <td>2</td>\n",
       "      <td>Innsbruck</td>\n",
       "      <td>Austria</td>\n",
       "      <td>8.57</td>\n",
       "      <td>yes</td>\n",
       "      <td>no</td>\n",
       "      <td>47.85</td>\n",
       "      <td>11.41</td>\n",
       "      <td>4.54</td>\n",
       "    </tr>\n",
       "    <tr>\n",
       "      <td>3</td>\n",
       "      <td>Graz</td>\n",
       "      <td>Austria</td>\n",
       "      <td>8.57</td>\n",
       "      <td>yes</td>\n",
       "      <td>no</td>\n",
       "      <td>47.08</td>\n",
       "      <td>14.02</td>\n",
       "      <td>6.91</td>\n",
       "    </tr>\n",
       "    <tr>\n",
       "      <td>4</td>\n",
       "      <td>Linz</td>\n",
       "      <td>Austria</td>\n",
       "      <td>8.57</td>\n",
       "      <td>yes</td>\n",
       "      <td>no</td>\n",
       "      <td>48.32</td>\n",
       "      <td>14.29</td>\n",
       "      <td>6.79</td>\n",
       "    </tr>\n",
       "    <tr>\n",
       "      <td>...</td>\n",
       "      <td>...</td>\n",
       "      <td>...</td>\n",
       "      <td>...</td>\n",
       "      <td>...</td>\n",
       "      <td>...</td>\n",
       "      <td>...</td>\n",
       "      <td>...</td>\n",
       "      <td>...</td>\n",
       "    </tr>\n",
       "    <tr>\n",
       "      <td>208</td>\n",
       "      <td>Edinburgh</td>\n",
       "      <td>United Kingdom</td>\n",
       "      <td>65.11</td>\n",
       "      <td>yes</td>\n",
       "      <td>yes</td>\n",
       "      <td>55.95</td>\n",
       "      <td>-2.94</td>\n",
       "      <td>NaN</td>\n",
       "    </tr>\n",
       "    <tr>\n",
       "      <td>209</td>\n",
       "      <td>Exeter</td>\n",
       "      <td>United Kingdom</td>\n",
       "      <td>65.11</td>\n",
       "      <td>yes</td>\n",
       "      <td>yes</td>\n",
       "      <td>50.70</td>\n",
       "      <td>-3.53</td>\n",
       "      <td>10.14</td>\n",
       "    </tr>\n",
       "    <tr>\n",
       "      <td>210</td>\n",
       "      <td>Inverness</td>\n",
       "      <td>United Kingdom</td>\n",
       "      <td>65.11</td>\n",
       "      <td>yes</td>\n",
       "      <td>yes</td>\n",
       "      <td>53.55</td>\n",
       "      <td>-4.23</td>\n",
       "      <td>8.00</td>\n",
       "    </tr>\n",
       "    <tr>\n",
       "      <td>211</td>\n",
       "      <td>Glasgow</td>\n",
       "      <td>United Kingdom</td>\n",
       "      <td>65.11</td>\n",
       "      <td>yes</td>\n",
       "      <td>yes</td>\n",
       "      <td>55.87</td>\n",
       "      <td>-4.25</td>\n",
       "      <td>8.60</td>\n",
       "    </tr>\n",
       "    <tr>\n",
       "      <td>212</td>\n",
       "      <td>Swansea</td>\n",
       "      <td>United Kingdom</td>\n",
       "      <td>65.11</td>\n",
       "      <td>yes</td>\n",
       "      <td>yes</td>\n",
       "      <td>51.63</td>\n",
       "      <td>-3.95</td>\n",
       "      <td>9.73</td>\n",
       "    </tr>\n",
       "  </tbody>\n",
       "</table>\n",
       "<p>213 rows × 8 columns</p>\n",
       "</div>"
      ],
      "text/plain": [
       "          city         country  population   EU coastline  latitude  \\\n",
       "0      Elbasan         Albania        2.90   no       yes     41.12   \n",
       "1      Andorra         Andorra        0.07   no        no     42.50   \n",
       "2    Innsbruck         Austria        8.57  yes        no     47.85   \n",
       "3         Graz         Austria        8.57  yes        no     47.08   \n",
       "4         Linz         Austria        8.57  yes        no     48.32   \n",
       "..         ...             ...         ...  ...       ...       ...   \n",
       "208  Edinburgh  United Kingdom       65.11  yes       yes     55.95   \n",
       "209     Exeter  United Kingdom       65.11  yes       yes     50.70   \n",
       "210  Inverness  United Kingdom       65.11  yes       yes     53.55   \n",
       "211    Glasgow  United Kingdom       65.11  yes       yes     55.87   \n",
       "212    Swansea  United Kingdom       65.11  yes       yes     51.63   \n",
       "\n",
       "     longitude  temperature  \n",
       "0        20.08        15.18  \n",
       "1         1.52          NaN  \n",
       "2        11.41         4.54  \n",
       "3        14.02         6.91  \n",
       "4        14.29         6.79  \n",
       "..         ...          ...  \n",
       "208      -2.94          NaN  \n",
       "209      -3.53        10.14  \n",
       "210      -4.23         8.00  \n",
       "211      -4.25         8.60  \n",
       "212      -3.95         9.73  \n",
       "\n",
       "[213 rows x 8 columns]"
      ]
     },
     "execution_count": 3,
     "metadata": {},
     "output_type": "execute_result"
    }
   ],
   "source": [
    "df['latitude'] = df.apply(lambda x: fix_nan(x, 'latitude'), axis=1)\n",
    "df['longitude'] = df.apply(lambda x: fix_nan(x, 'longitude'), axis=1)\n",
    "df"
   ]
  },
  {
   "cell_type": "markdown",
   "metadata": {},
   "source": [
    "### 2. [9 pts] Find out the subset of cities that lie between latitudes 40 to 60 (both inclusive) and longitudes 15 to 30 (both inclusive). Find out which countries have the maximum number of cities in this geographical band. (More than one country could have the maximum number of values.)"
   ]
  },
  {
   "cell_type": "code",
   "execution_count": 4,
   "metadata": {},
   "outputs": [
    {
     "data": {
      "text/plain": [
       "['Poland', 'Romania']"
      ]
     },
     "execution_count": 4,
     "metadata": {},
     "output_type": "execute_result"
    }
   ],
   "source": [
    "select_df = df[(df.latitude <= 60) & (df.latitude >= 40) & (df.longitude <= 30) & (df.longitude >= 15)]\n",
    "country_list = select_df.country.to_list()\n",
    "country_count_dict = {_v: country_list.count(_v) for _v in set(country_list)}\n",
    "country_count_maxes = [_k for _k, _v in country_count_dict.items() if _v == max(country_count_dict.values())]\n",
    "country_count_maxes"
   ]
  },
  {
   "cell_type": "markdown",
   "metadata": {},
   "source": [
    "### 3. [10 pts] Fill in the missing temperature values by the average temperature value of the similar region type. A region type would be a combinaton of whether it is in EU (Yes/No) and whether it has a coastline (yes/no). For example, if we have a missing temperature value for Bergen, Norway, which is not in the EU but lies on the coast, we will fill it with the average temperature of cities with EU='No' and coastline='Yes')"
   ]
  },
  {
   "cell_type": "code",
   "execution_count": 5,
   "metadata": {},
   "outputs": [],
   "source": [
    "def fix_temperature(_df):\n",
    "    if pd.isna(_df.temperature):\n",
    "        _EU = _df.EU\n",
    "        _coastline = _df.coastline\n",
    "        mean_v = np.mean(df[(df.EU == _EU) & (df.coastline == _coastline)].temperature)\n",
    "        return round(mean_v, 2)\n",
    "    else:\n",
    "        return _df.temperature"
   ]
  },
  {
   "cell_type": "code",
   "execution_count": 6,
   "metadata": {},
   "outputs": [
    {
     "data": {
      "text/html": [
       "<div>\n",
       "<style scoped>\n",
       "    .dataframe tbody tr th:only-of-type {\n",
       "        vertical-align: middle;\n",
       "    }\n",
       "\n",
       "    .dataframe tbody tr th {\n",
       "        vertical-align: top;\n",
       "    }\n",
       "\n",
       "    .dataframe thead th {\n",
       "        text-align: right;\n",
       "    }\n",
       "</style>\n",
       "<table border=\"1\" class=\"dataframe\">\n",
       "  <thead>\n",
       "    <tr style=\"text-align: right;\">\n",
       "      <th></th>\n",
       "      <th>city</th>\n",
       "      <th>country</th>\n",
       "      <th>population</th>\n",
       "      <th>EU</th>\n",
       "      <th>coastline</th>\n",
       "      <th>latitude</th>\n",
       "      <th>longitude</th>\n",
       "      <th>temperature</th>\n",
       "    </tr>\n",
       "  </thead>\n",
       "  <tbody>\n",
       "    <tr>\n",
       "      <td>0</td>\n",
       "      <td>Elbasan</td>\n",
       "      <td>Albania</td>\n",
       "      <td>2.90</td>\n",
       "      <td>no</td>\n",
       "      <td>yes</td>\n",
       "      <td>41.12</td>\n",
       "      <td>20.08</td>\n",
       "      <td>15.18</td>\n",
       "    </tr>\n",
       "    <tr>\n",
       "      <td>1</td>\n",
       "      <td>Andorra</td>\n",
       "      <td>Andorra</td>\n",
       "      <td>0.07</td>\n",
       "      <td>no</td>\n",
       "      <td>no</td>\n",
       "      <td>42.50</td>\n",
       "      <td>1.52</td>\n",
       "      <td>7.48</td>\n",
       "    </tr>\n",
       "    <tr>\n",
       "      <td>2</td>\n",
       "      <td>Innsbruck</td>\n",
       "      <td>Austria</td>\n",
       "      <td>8.57</td>\n",
       "      <td>yes</td>\n",
       "      <td>no</td>\n",
       "      <td>47.85</td>\n",
       "      <td>11.41</td>\n",
       "      <td>4.54</td>\n",
       "    </tr>\n",
       "    <tr>\n",
       "      <td>3</td>\n",
       "      <td>Graz</td>\n",
       "      <td>Austria</td>\n",
       "      <td>8.57</td>\n",
       "      <td>yes</td>\n",
       "      <td>no</td>\n",
       "      <td>47.08</td>\n",
       "      <td>14.02</td>\n",
       "      <td>6.91</td>\n",
       "    </tr>\n",
       "    <tr>\n",
       "      <td>4</td>\n",
       "      <td>Linz</td>\n",
       "      <td>Austria</td>\n",
       "      <td>8.57</td>\n",
       "      <td>yes</td>\n",
       "      <td>no</td>\n",
       "      <td>48.32</td>\n",
       "      <td>14.29</td>\n",
       "      <td>6.79</td>\n",
       "    </tr>\n",
       "    <tr>\n",
       "      <td>...</td>\n",
       "      <td>...</td>\n",
       "      <td>...</td>\n",
       "      <td>...</td>\n",
       "      <td>...</td>\n",
       "      <td>...</td>\n",
       "      <td>...</td>\n",
       "      <td>...</td>\n",
       "      <td>...</td>\n",
       "    </tr>\n",
       "    <tr>\n",
       "      <td>208</td>\n",
       "      <td>Edinburgh</td>\n",
       "      <td>United Kingdom</td>\n",
       "      <td>65.11</td>\n",
       "      <td>yes</td>\n",
       "      <td>yes</td>\n",
       "      <td>55.95</td>\n",
       "      <td>-2.94</td>\n",
       "      <td>10.31</td>\n",
       "    </tr>\n",
       "    <tr>\n",
       "      <td>209</td>\n",
       "      <td>Exeter</td>\n",
       "      <td>United Kingdom</td>\n",
       "      <td>65.11</td>\n",
       "      <td>yes</td>\n",
       "      <td>yes</td>\n",
       "      <td>50.70</td>\n",
       "      <td>-3.53</td>\n",
       "      <td>10.14</td>\n",
       "    </tr>\n",
       "    <tr>\n",
       "      <td>210</td>\n",
       "      <td>Inverness</td>\n",
       "      <td>United Kingdom</td>\n",
       "      <td>65.11</td>\n",
       "      <td>yes</td>\n",
       "      <td>yes</td>\n",
       "      <td>53.55</td>\n",
       "      <td>-4.23</td>\n",
       "      <td>8.00</td>\n",
       "    </tr>\n",
       "    <tr>\n",
       "      <td>211</td>\n",
       "      <td>Glasgow</td>\n",
       "      <td>United Kingdom</td>\n",
       "      <td>65.11</td>\n",
       "      <td>yes</td>\n",
       "      <td>yes</td>\n",
       "      <td>55.87</td>\n",
       "      <td>-4.25</td>\n",
       "      <td>8.60</td>\n",
       "    </tr>\n",
       "    <tr>\n",
       "      <td>212</td>\n",
       "      <td>Swansea</td>\n",
       "      <td>United Kingdom</td>\n",
       "      <td>65.11</td>\n",
       "      <td>yes</td>\n",
       "      <td>yes</td>\n",
       "      <td>51.63</td>\n",
       "      <td>-3.95</td>\n",
       "      <td>9.73</td>\n",
       "    </tr>\n",
       "  </tbody>\n",
       "</table>\n",
       "<p>213 rows × 8 columns</p>\n",
       "</div>"
      ],
      "text/plain": [
       "          city         country  population   EU coastline  latitude  \\\n",
       "0      Elbasan         Albania        2.90   no       yes     41.12   \n",
       "1      Andorra         Andorra        0.07   no        no     42.50   \n",
       "2    Innsbruck         Austria        8.57  yes        no     47.85   \n",
       "3         Graz         Austria        8.57  yes        no     47.08   \n",
       "4         Linz         Austria        8.57  yes        no     48.32   \n",
       "..         ...             ...         ...  ...       ...       ...   \n",
       "208  Edinburgh  United Kingdom       65.11  yes       yes     55.95   \n",
       "209     Exeter  United Kingdom       65.11  yes       yes     50.70   \n",
       "210  Inverness  United Kingdom       65.11  yes       yes     53.55   \n",
       "211    Glasgow  United Kingdom       65.11  yes       yes     55.87   \n",
       "212    Swansea  United Kingdom       65.11  yes       yes     51.63   \n",
       "\n",
       "     longitude  temperature  \n",
       "0        20.08        15.18  \n",
       "1         1.52         7.48  \n",
       "2        11.41         4.54  \n",
       "3        14.02         6.91  \n",
       "4        14.29         6.79  \n",
       "..         ...          ...  \n",
       "208      -2.94        10.31  \n",
       "209      -3.53        10.14  \n",
       "210      -4.23         8.00  \n",
       "211      -4.25         8.60  \n",
       "212      -3.95         9.73  \n",
       "\n",
       "[213 rows x 8 columns]"
      ]
     },
     "execution_count": 6,
     "metadata": {},
     "output_type": "execute_result"
    }
   ],
   "source": [
    "df['temperature'] = df.apply(lambda x: fix_temperature(x), axis=1)\n",
    "df"
   ]
  },
  {
   "cell_type": "markdown",
   "metadata": {},
   "source": [
    "## Visualization"
   ]
  },
  {
   "cell_type": "markdown",
   "metadata": {},
   "source": [
    "### 1. [6 pts] Plot a bar chart for the number of cities belonging to each of the regions described in Preprocessing/Analysis #3 above."
   ]
  },
  {
   "cell_type": "code",
   "execution_count": 7,
   "metadata": {},
   "outputs": [
    {
     "data": {
      "image/png": "[encoded data removed]",
      "text/plain": [
       "<Figure size 432x288 with 1 Axes>"
      ]
     },
     "metadata": {
      "needs_background": "light"
     },
     "output_type": "display_data"
    }
   ],
   "source": [
    "df.country.value_counts().plot.bar()\n",
    "plt.show()"
   ]
  },
  {
   "cell_type": "markdown",
   "metadata": {},
   "source": [
    "### 2. [7 pts] Plot a scatter plot of latitude (y-axis) v/s longitude (x-axis) values to get a map-like visual of the cities under consideration. All the cities in the same country should have the same color."
   ]
  },
  {
   "cell_type": "code",
   "execution_count": 8,
   "metadata": {},
   "outputs": [
    {
     "data": {
      "image/png": "[encoded data removed]",
      "text/plain": [
       "<Figure size 432x288 with 1 Axes>"
      ]
     },
     "metadata": {
      "needs_background": "light"
     },
     "output_type": "display_data"
    }
   ],
   "source": [
    "import matplotlib.cm as cm\n",
    "import matplotlib.colors as colors\n",
    "\n",
    "colormap = cm.viridis\n",
    "country_list = list(df.country.value_counts().to_dict().keys())\n",
    "color_list = [colors.rgb2hex(colormap(i)) for i in np.linspace(0, 0.9, len(country_list))]\n",
    "color_dict = {country_list[idx]: color_list[idx] for idx, _ in enumerate(country_list)}\n",
    "df.plot.scatter(x='latitude', y='longitude', c=df['country'].map(color_dict))\n",
    "plt.show()"
   ]
  },
  {
   "cell_type": "markdown",
   "metadata": {},
   "source": [
    "### 3. [6 pts] The population column contains values unique to each country. So two cities of the same country will show the same population value. Plot a histogram of the number of countries belonging to each population group: split the population values into 5 bins (groups)."
   ]
  },
  {
   "cell_type": "code",
   "execution_count": 9,
   "metadata": {
    "scrolled": true
   },
   "outputs": [
    {
     "data": {
      "image/png": "[encoded data removed]",
      "text/plain": [
       "<Figure size 432x288 with 1 Axes>"
      ]
     },
     "metadata": {
      "needs_background": "light"
     },
     "output_type": "display_data"
    }
   ],
   "source": [
    "df.loc[:, ['country', 'population']].drop_duplicates('country').hist(bins=5)\n",
    "plt.show()"
   ]
  },
  {
   "cell_type": "markdown",
   "metadata": {},
   "source": [
    "### 4. [8 pts] Plot subplots (2, 2), with proper titles, one each for the region types described in Preprocessing/Analysis #3 above. Each subplot should be a scatter plot of city v/s temperature, where the color of the plot points should be based on the temperature values: ‘red’ for temperatures above 10, ‘blue’ for temperatures below 6 and ‘orange for temperatures between 6 and 10 (both inclusive). For each subplot, set xticks to to an array of numbers from 0 to n (number of cities)."
   ]
  },
  {
   "cell_type": "code",
   "execution_count": 10,
   "metadata": {},
   "outputs": [],
   "source": [
    "def get_color_list(_df):\n",
    "    _color_list = []\n",
    "    for _temperature in select_df.temperature.to_list():\n",
    "        if _temperature > 10:\n",
    "            _c = 'red'\n",
    "        elif 10 >= _temperature >= 6:\n",
    "            _c = 'orange'\n",
    "        else:\n",
    "            _c = 'blue'\n",
    "        _color_list.append(_c)\n",
    "    return _color_list"
   ]
  },
  {
   "cell_type": "code",
   "execution_count": 17,
   "metadata": {
    "scrolled": true
   },
   "outputs": [
    {
     "data": {
      "image/png": "[encoded data removed]",
      "text/plain": [
       "<Figure size 432x288 with 4 Axes>"
      ]
     },
     "metadata": {
      "needs_background": "light"
     },
     "output_type": "display_data"
    }
   ],
   "source": [
    "fig, axes = plt.subplots(nrows=2, ncols=2)\n",
    "select_df = df[(df.EU == 'yes') & (df.coastline == 'yes')]\n",
    "select_df.loc[:, 'index_new'] = np.arange(len(select_df))\n",
    "select_df.plot.scatter(x='index_new', y='temperature', c=get_color_list(select_df), ax=axes[0, 0])\n",
    "select_df = df[(df.EU == 'yes') & (df.coastline == 'no')]\n",
    "select_df.loc[:, 'index_new'] = np.arange(len(select_df))\n",
    "select_df.plot.scatter(x='index_new', y='temperature', c=get_color_list(select_df), ax=axes[0, 1])\n",
    "select_df = df[(df.EU == 'no') & (df.coastline == 'yes')]\n",
    "select_df.loc[:, 'index_new'] = np.arange(len(select_df))\n",
    "select_df.plot.scatter(x='index_new', y='temperature', c=get_color_list(select_df), ax=axes[1, 0])\n",
    "select_df = df[(df.EU == 'no') & (df.coastline == 'no')]\n",
    "select_df.loc[:, 'index_new'] = np.arange(len(select_df))\n",
    "select_df.plot.scatter(x='index_new', y='temperature', c=get_color_list(select_df), ax=axes[1, 1])\n",
    "plt.show()"
   ]
  },
  {
   "cell_type": "code",
   "execution_count": null,
   "metadata": {},
   "outputs": [],
   "source": []
  }
 ],
 "metadata": {
  "kernelspec": {
   "display_name": "Python 3",
   "language": "python",
   "name": "python3"
  },
  "language_info": {
   "codemirror_mode": {
    "name": "ipython",
    "version": 3
   },
   "file_extension": ".py",
   "mimetype": "text/x-python",
   "name": "python",
   "nbconvert_exporter": "python",
   "pygments_lexer": "ipython3",
   "version": "3.7.4"
  }
 },
 "nbformat": 4,
 "nbformat_minor": 2
}
