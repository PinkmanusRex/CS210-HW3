{
 "cells": [
  {
   "cell_type": "markdown",
   "metadata": {},
   "source": [
    "### Import numpy and pandas to get started"
   ]
  },
  {
   "cell_type": "code",
   "execution_count": 1,
   "metadata": {},
   "outputs": [],
   "source": [
    "import numpy as np\n",
    "import pandas as pd\n",
    "from pandas import Series, DataFrame\n",
    "import matplotlib.pyplot as plt"
   ]
  },
  {
   "cell_type": "markdown",
   "metadata": {},
   "source": [
    "### Preprocessing/Analysis (28 pts) "
   ]
  },
  {
   "cell_type": "markdown",
   "metadata": {},
   "source": [
    "1. [9 pts] Fill in the missing latitude and longitude values by calculating the average for that country. Round the average to 2 decimal places. "
   ]
  },
  {
   "cell_type": "code",
   "execution_count": 2,
   "metadata": {},
   "outputs": [],
   "source": [
    "csv_file = \"EuCitiesTemperatures.csv\"\n",
    "eu_temp_df = pd.read_csv(csv_file)"
   ]
  },
  {
   "cell_type": "code",
   "execution_count": 3,
   "metadata": {},
   "outputs": [],
   "source": [
    "miss_lat = eu_temp_df[eu_temp_df[\"latitude\"].isna()]"
   ]
  },
  {
   "cell_type": "code",
   "execution_count": 4,
   "metadata": {},
   "outputs": [],
   "source": [
    "miss_lat_countries = miss_lat[\"country\"].unique()"
   ]
  },
  {
   "cell_type": "code",
   "execution_count": 5,
   "metadata": {},
   "outputs": [],
   "source": [
    "country_avg_lat_dict = {}\n",
    "for country in miss_lat_countries:\n",
    "    avg = eu_temp_df.loc[(eu_temp_df[\"country\"]==country) & (~eu_temp_df[\"latitude\"].isna()), \"latitude\"].mean()\n",
    "    avg = round(avg, 2)\n",
    "    country_avg_lat_dict[country] = avg"
   ]
  },
  {
   "cell_type": "code",
   "execution_count": 6,
   "metadata": {},
   "outputs": [],
   "source": [
    "for country in miss_lat_countries:\n",
    "    eu_temp_df.loc[(eu_temp_df[\"country\"]==country) & (eu_temp_df[\"latitude\"].isna()), \"latitude\"] = country_avg_lat_dict[country]"
   ]
  },
  {
   "cell_type": "code",
   "execution_count": 7,
   "metadata": {},
   "outputs": [],
   "source": [
    "miss_long = eu_temp_df[eu_temp_df[\"longitude\"].isna()]"
   ]
  },
  {
   "cell_type": "code",
   "execution_count": 8,
   "metadata": {},
   "outputs": [],
   "source": [
    "miss_long_countries = miss_long[\"country\"].unique()"
   ]
  },
  {
   "cell_type": "code",
   "execution_count": 9,
   "metadata": {},
   "outputs": [],
   "source": [
    "country_avg_long_dict = {}\n",
    "for country in miss_long_countries:\n",
    "    avg = eu_temp_df.loc[(eu_temp_df[\"country\"]==country) & (~eu_temp_df[\"longitude\"].isna()), \"longitude\"].mean()\n",
    "    avg = round(avg, 2)\n",
    "    country_avg_long_dict[country] = avg"
   ]
  },
  {
   "cell_type": "code",
   "execution_count": 10,
   "metadata": {},
   "outputs": [],
   "source": [
    "for country in miss_long_countries:\n",
    "    eu_temp_df.loc[(eu_temp_df[\"country\"]==country) & (eu_temp_df[\"longitude\"].isna()), \"longitude\"] = country_avg_long_dict[country]"
   ]
  },
  {
   "cell_type": "code",
   "execution_count": 11,
   "metadata": {},
   "outputs": [
    {
     "data": {
      "text/html": [
       "<div>\n",
       "<style scoped>\n",
       "    .dataframe tbody tr th:only-of-type {\n",
       "        vertical-align: middle;\n",
       "    }\n",
       "\n",
       "    .dataframe tbody tr th {\n",
       "        vertical-align: top;\n",
       "    }\n",
       "\n",
       "    .dataframe thead th {\n",
       "        text-align: right;\n",
       "    }\n",
       "</style>\n",
       "<table border=\"1\" class=\"dataframe\">\n",
       "  <thead>\n",
       "    <tr style=\"text-align: right;\">\n",
       "      <th></th>\n",
       "      <th>city</th>\n",
       "      <th>country</th>\n",
       "      <th>population</th>\n",
       "      <th>EU</th>\n",
       "      <th>coastline</th>\n",
       "      <th>latitude</th>\n",
       "      <th>longitude</th>\n",
       "      <th>temperature</th>\n",
       "    </tr>\n",
       "  </thead>\n",
       "  <tbody>\n",
       "    <tr>\n",
       "      <th>0</th>\n",
       "      <td>Elbasan</td>\n",
       "      <td>Albania</td>\n",
       "      <td>2.90</td>\n",
       "      <td>no</td>\n",
       "      <td>yes</td>\n",
       "      <td>41.12</td>\n",
       "      <td>20.08</td>\n",
       "      <td>15.18</td>\n",
       "    </tr>\n",
       "    <tr>\n",
       "      <th>1</th>\n",
       "      <td>Andorra</td>\n",
       "      <td>Andorra</td>\n",
       "      <td>0.07</td>\n",
       "      <td>no</td>\n",
       "      <td>no</td>\n",
       "      <td>42.50</td>\n",
       "      <td>1.52</td>\n",
       "      <td>NaN</td>\n",
       "    </tr>\n",
       "    <tr>\n",
       "      <th>2</th>\n",
       "      <td>Innsbruck</td>\n",
       "      <td>Austria</td>\n",
       "      <td>8.57</td>\n",
       "      <td>yes</td>\n",
       "      <td>no</td>\n",
       "      <td>47.85</td>\n",
       "      <td>11.41</td>\n",
       "      <td>4.54</td>\n",
       "    </tr>\n",
       "    <tr>\n",
       "      <th>3</th>\n",
       "      <td>Graz</td>\n",
       "      <td>Austria</td>\n",
       "      <td>8.57</td>\n",
       "      <td>yes</td>\n",
       "      <td>no</td>\n",
       "      <td>47.08</td>\n",
       "      <td>14.02</td>\n",
       "      <td>6.91</td>\n",
       "    </tr>\n",
       "    <tr>\n",
       "      <th>4</th>\n",
       "      <td>Linz</td>\n",
       "      <td>Austria</td>\n",
       "      <td>8.57</td>\n",
       "      <td>yes</td>\n",
       "      <td>no</td>\n",
       "      <td>48.32</td>\n",
       "      <td>14.29</td>\n",
       "      <td>6.79</td>\n",
       "    </tr>\n",
       "    <tr>\n",
       "      <th>...</th>\n",
       "      <td>...</td>\n",
       "      <td>...</td>\n",
       "      <td>...</td>\n",
       "      <td>...</td>\n",
       "      <td>...</td>\n",
       "      <td>...</td>\n",
       "      <td>...</td>\n",
       "      <td>...</td>\n",
       "    </tr>\n",
       "    <tr>\n",
       "      <th>208</th>\n",
       "      <td>Edinburgh</td>\n",
       "      <td>United Kingdom</td>\n",
       "      <td>65.11</td>\n",
       "      <td>yes</td>\n",
       "      <td>yes</td>\n",
       "      <td>55.95</td>\n",
       "      <td>-2.94</td>\n",
       "      <td>NaN</td>\n",
       "    </tr>\n",
       "    <tr>\n",
       "      <th>209</th>\n",
       "      <td>Exeter</td>\n",
       "      <td>United Kingdom</td>\n",
       "      <td>65.11</td>\n",
       "      <td>yes</td>\n",
       "      <td>yes</td>\n",
       "      <td>50.70</td>\n",
       "      <td>-3.53</td>\n",
       "      <td>10.14</td>\n",
       "    </tr>\n",
       "    <tr>\n",
       "      <th>210</th>\n",
       "      <td>Inverness</td>\n",
       "      <td>United Kingdom</td>\n",
       "      <td>65.11</td>\n",
       "      <td>yes</td>\n",
       "      <td>yes</td>\n",
       "      <td>53.55</td>\n",
       "      <td>-4.23</td>\n",
       "      <td>8.00</td>\n",
       "    </tr>\n",
       "    <tr>\n",
       "      <th>211</th>\n",
       "      <td>Glasgow</td>\n",
       "      <td>United Kingdom</td>\n",
       "      <td>65.11</td>\n",
       "      <td>yes</td>\n",
       "      <td>yes</td>\n",
       "      <td>55.87</td>\n",
       "      <td>-4.25</td>\n",
       "      <td>8.60</td>\n",
       "    </tr>\n",
       "    <tr>\n",
       "      <th>212</th>\n",
       "      <td>Swansea</td>\n",
       "      <td>United Kingdom</td>\n",
       "      <td>65.11</td>\n",
       "      <td>yes</td>\n",
       "      <td>yes</td>\n",
       "      <td>51.63</td>\n",
       "      <td>-3.95</td>\n",
       "      <td>9.73</td>\n",
       "    </tr>\n",
       "  </tbody>\n",
       "</table>\n",
       "<p>213 rows × 8 columns</p>\n",
       "</div>"
      ],
      "text/plain": [
       "          city         country  population   EU coastline  latitude  \\\n",
       "0      Elbasan         Albania        2.90   no       yes     41.12   \n",
       "1      Andorra         Andorra        0.07   no        no     42.50   \n",
       "2    Innsbruck         Austria        8.57  yes        no     47.85   \n",
       "3         Graz         Austria        8.57  yes        no     47.08   \n",
       "4         Linz         Austria        8.57  yes        no     48.32   \n",
       "..         ...             ...         ...  ...       ...       ...   \n",
       "208  Edinburgh  United Kingdom       65.11  yes       yes     55.95   \n",
       "209     Exeter  United Kingdom       65.11  yes       yes     50.70   \n",
       "210  Inverness  United Kingdom       65.11  yes       yes     53.55   \n",
       "211    Glasgow  United Kingdom       65.11  yes       yes     55.87   \n",
       "212    Swansea  United Kingdom       65.11  yes       yes     51.63   \n",
       "\n",
       "     longitude  temperature  \n",
       "0        20.08        15.18  \n",
       "1         1.52          NaN  \n",
       "2        11.41         4.54  \n",
       "3        14.02         6.91  \n",
       "4        14.29         6.79  \n",
       "..         ...          ...  \n",
       "208      -2.94          NaN  \n",
       "209      -3.53        10.14  \n",
       "210      -4.23         8.00  \n",
       "211      -4.25         8.60  \n",
       "212      -3.95         9.73  \n",
       "\n",
       "[213 rows x 8 columns]"
      ]
     },
     "execution_count": 11,
     "metadata": {},
     "output_type": "execute_result"
    }
   ],
   "source": [
    "eu_temp_df"
   ]
  },
  {
   "cell_type": "markdown",
   "metadata": {},
   "source": [
    "2. [9 pts] Find out the subset of cities that lie between latitudes 40 to 60 (both inclusive) and longitudes 15 to 30 (both inclusive). Find out which countries have the maximum number of cities in this geographical band. (More than one country could have the maximum number of values.) "
   ]
  },
  {
   "cell_type": "code",
   "execution_count": 12,
   "metadata": {},
   "outputs": [],
   "source": [
    "in_geo_band = eu_temp_df.loc[(eu_temp_df[\"latitude\"] >= 40) & (eu_temp_df[\"latitude\"] <= 60) & (eu_temp_df[\"longitude\"] >= 15) & (eu_temp_df[\"longitude\"] <= 30)]"
   ]
  },
  {
   "cell_type": "code",
   "execution_count": 13,
   "metadata": {},
   "outputs": [
    {
     "data": {
      "text/plain": [
       "['Poland', 'Romania']"
      ]
     },
     "execution_count": 13,
     "metadata": {},
     "output_type": "execute_result"
    }
   ],
   "source": [
    "country_city_count = in_geo_band.groupby([\"country\"]).size()\n",
    "max_cities = country_city_count.max()\n",
    "max_city_country_list = [country for country in country_city_count.keys() if country_city_count[country]==max_cities]\n",
    "max_city_country_list #answer"
   ]
  },
  {
   "cell_type": "code",
   "execution_count": 14,
   "metadata": {},
   "outputs": [],
   "source": [
    "max_city_country_frames = []\n",
    "for country in max_city_country_list:\n",
    "    frame = eu_temp_df[eu_temp_df[\"country\"]==country]\n",
    "    max_city_country_frames.append(frame)"
   ]
  },
  {
   "cell_type": "code",
   "execution_count": 15,
   "metadata": {},
   "outputs": [
    {
     "data": {
      "text/html": [
       "<div>\n",
       "<style scoped>\n",
       "    .dataframe tbody tr th:only-of-type {\n",
       "        vertical-align: middle;\n",
       "    }\n",
       "\n",
       "    .dataframe tbody tr th {\n",
       "        vertical-align: top;\n",
       "    }\n",
       "\n",
       "    .dataframe thead th {\n",
       "        text-align: right;\n",
       "    }\n",
       "</style>\n",
       "<table border=\"1\" class=\"dataframe\">\n",
       "  <thead>\n",
       "    <tr style=\"text-align: right;\">\n",
       "      <th></th>\n",
       "      <th>city</th>\n",
       "      <th>country</th>\n",
       "      <th>population</th>\n",
       "      <th>EU</th>\n",
       "      <th>coastline</th>\n",
       "      <th>latitude</th>\n",
       "      <th>longitude</th>\n",
       "      <th>temperature</th>\n",
       "    </tr>\n",
       "  </thead>\n",
       "  <tbody>\n",
       "    <tr>\n",
       "      <th>108</th>\n",
       "      <td>Bialystok</td>\n",
       "      <td>Poland</td>\n",
       "      <td>38.59</td>\n",
       "      <td>yes</td>\n",
       "      <td>yes</td>\n",
       "      <td>53.15</td>\n",
       "      <td>23.17</td>\n",
       "      <td>6.07</td>\n",
       "    </tr>\n",
       "    <tr>\n",
       "      <th>109</th>\n",
       "      <td>Bydgoszcz</td>\n",
       "      <td>Poland</td>\n",
       "      <td>38.59</td>\n",
       "      <td>yes</td>\n",
       "      <td>yes</td>\n",
       "      <td>53.12</td>\n",
       "      <td>19.43</td>\n",
       "      <td>7.14</td>\n",
       "    </tr>\n",
       "    <tr>\n",
       "      <th>110</th>\n",
       "      <td>Bytom</td>\n",
       "      <td>Poland</td>\n",
       "      <td>38.59</td>\n",
       "      <td>yes</td>\n",
       "      <td>yes</td>\n",
       "      <td>52.48</td>\n",
       "      <td>19.43</td>\n",
       "      <td>NaN</td>\n",
       "    </tr>\n",
       "    <tr>\n",
       "      <th>111</th>\n",
       "      <td>Elblag</td>\n",
       "      <td>Poland</td>\n",
       "      <td>38.59</td>\n",
       "      <td>yes</td>\n",
       "      <td>yes</td>\n",
       "      <td>52.48</td>\n",
       "      <td>19.40</td>\n",
       "      <td>6.68</td>\n",
       "    </tr>\n",
       "    <tr>\n",
       "      <th>112</th>\n",
       "      <td>Kielce</td>\n",
       "      <td>Poland</td>\n",
       "      <td>38.59</td>\n",
       "      <td>yes</td>\n",
       "      <td>yes</td>\n",
       "      <td>50.89</td>\n",
       "      <td>20.66</td>\n",
       "      <td>7.29</td>\n",
       "    </tr>\n",
       "    <tr>\n",
       "      <th>113</th>\n",
       "      <td>Koszalin</td>\n",
       "      <td>Poland</td>\n",
       "      <td>38.59</td>\n",
       "      <td>yes</td>\n",
       "      <td>yes</td>\n",
       "      <td>54.20</td>\n",
       "      <td>19.43</td>\n",
       "      <td>NaN</td>\n",
       "    </tr>\n",
       "    <tr>\n",
       "      <th>114</th>\n",
       "      <td>Poznan</td>\n",
       "      <td>Poland</td>\n",
       "      <td>38.59</td>\n",
       "      <td>yes</td>\n",
       "      <td>yes</td>\n",
       "      <td>52.41</td>\n",
       "      <td>16.90</td>\n",
       "      <td>8.31</td>\n",
       "    </tr>\n",
       "    <tr>\n",
       "      <th>115</th>\n",
       "      <td>Wroclaw</td>\n",
       "      <td>Poland</td>\n",
       "      <td>38.59</td>\n",
       "      <td>yes</td>\n",
       "      <td>yes</td>\n",
       "      <td>51.11</td>\n",
       "      <td>17.03</td>\n",
       "      <td>NaN</td>\n",
       "    </tr>\n",
       "    <tr>\n",
       "      <th>116</th>\n",
       "      <td>Warsaw</td>\n",
       "      <td>Poland</td>\n",
       "      <td>38.59</td>\n",
       "      <td>yes</td>\n",
       "      <td>yes</td>\n",
       "      <td>52.48</td>\n",
       "      <td>19.43</td>\n",
       "      <td>7.20</td>\n",
       "    </tr>\n",
       "    <tr>\n",
       "      <th>119</th>\n",
       "      <td>Botosani</td>\n",
       "      <td>Romania</td>\n",
       "      <td>19.37</td>\n",
       "      <td>yes</td>\n",
       "      <td>yes</td>\n",
       "      <td>47.75</td>\n",
       "      <td>26.66</td>\n",
       "      <td>8.23</td>\n",
       "    </tr>\n",
       "    <tr>\n",
       "      <th>120</th>\n",
       "      <td>Braila</td>\n",
       "      <td>Romania</td>\n",
       "      <td>19.37</td>\n",
       "      <td>yes</td>\n",
       "      <td>yes</td>\n",
       "      <td>45.29</td>\n",
       "      <td>27.97</td>\n",
       "      <td>NaN</td>\n",
       "    </tr>\n",
       "    <tr>\n",
       "      <th>121</th>\n",
       "      <td>Bucharest</td>\n",
       "      <td>Romania</td>\n",
       "      <td>19.37</td>\n",
       "      <td>yes</td>\n",
       "      <td>yes</td>\n",
       "      <td>44.43</td>\n",
       "      <td>26.10</td>\n",
       "      <td>NaN</td>\n",
       "    </tr>\n",
       "    <tr>\n",
       "      <th>122</th>\n",
       "      <td>Craiova</td>\n",
       "      <td>Romania</td>\n",
       "      <td>19.37</td>\n",
       "      <td>yes</td>\n",
       "      <td>yes</td>\n",
       "      <td>44.33</td>\n",
       "      <td>25.96</td>\n",
       "      <td>NaN</td>\n",
       "    </tr>\n",
       "    <tr>\n",
       "      <th>123</th>\n",
       "      <td>Sibiu</td>\n",
       "      <td>Romania</td>\n",
       "      <td>19.37</td>\n",
       "      <td>yes</td>\n",
       "      <td>yes</td>\n",
       "      <td>45.80</td>\n",
       "      <td>24.14</td>\n",
       "      <td>NaN</td>\n",
       "    </tr>\n",
       "    <tr>\n",
       "      <th>124</th>\n",
       "      <td>Arad</td>\n",
       "      <td>Romania</td>\n",
       "      <td>19.37</td>\n",
       "      <td>yes</td>\n",
       "      <td>yes</td>\n",
       "      <td>45.52</td>\n",
       "      <td>21.32</td>\n",
       "      <td>NaN</td>\n",
       "    </tr>\n",
       "    <tr>\n",
       "      <th>125</th>\n",
       "      <td>Bacau</td>\n",
       "      <td>Romania</td>\n",
       "      <td>19.37</td>\n",
       "      <td>yes</td>\n",
       "      <td>yes</td>\n",
       "      <td>45.52</td>\n",
       "      <td>26.92</td>\n",
       "      <td>7.51</td>\n",
       "    </tr>\n",
       "    <tr>\n",
       "      <th>126</th>\n",
       "      <td>Baia Mare</td>\n",
       "      <td>Romania</td>\n",
       "      <td>19.37</td>\n",
       "      <td>yes</td>\n",
       "      <td>yes</td>\n",
       "      <td>45.52</td>\n",
       "      <td>25.96</td>\n",
       "      <td>8.87</td>\n",
       "    </tr>\n",
       "    <tr>\n",
       "      <th>127</th>\n",
       "      <td>Constanta</td>\n",
       "      <td>Romania</td>\n",
       "      <td>19.37</td>\n",
       "      <td>yes</td>\n",
       "      <td>yes</td>\n",
       "      <td>45.52</td>\n",
       "      <td>28.61</td>\n",
       "      <td>11.24</td>\n",
       "    </tr>\n",
       "  </tbody>\n",
       "</table>\n",
       "</div>"
      ],
      "text/plain": [
       "          city  country  population   EU coastline  latitude  longitude  \\\n",
       "108  Bialystok   Poland       38.59  yes       yes     53.15      23.17   \n",
       "109  Bydgoszcz   Poland       38.59  yes       yes     53.12      19.43   \n",
       "110      Bytom   Poland       38.59  yes       yes     52.48      19.43   \n",
       "111     Elblag   Poland       38.59  yes       yes     52.48      19.40   \n",
       "112     Kielce   Poland       38.59  yes       yes     50.89      20.66   \n",
       "113   Koszalin   Poland       38.59  yes       yes     54.20      19.43   \n",
       "114     Poznan   Poland       38.59  yes       yes     52.41      16.90   \n",
       "115    Wroclaw   Poland       38.59  yes       yes     51.11      17.03   \n",
       "116     Warsaw   Poland       38.59  yes       yes     52.48      19.43   \n",
       "119   Botosani  Romania       19.37  yes       yes     47.75      26.66   \n",
       "120     Braila  Romania       19.37  yes       yes     45.29      27.97   \n",
       "121  Bucharest  Romania       19.37  yes       yes     44.43      26.10   \n",
       "122    Craiova  Romania       19.37  yes       yes     44.33      25.96   \n",
       "123      Sibiu  Romania       19.37  yes       yes     45.80      24.14   \n",
       "124       Arad  Romania       19.37  yes       yes     45.52      21.32   \n",
       "125      Bacau  Romania       19.37  yes       yes     45.52      26.92   \n",
       "126  Baia Mare  Romania       19.37  yes       yes     45.52      25.96   \n",
       "127  Constanta  Romania       19.37  yes       yes     45.52      28.61   \n",
       "\n",
       "     temperature  \n",
       "108         6.07  \n",
       "109         7.14  \n",
       "110          NaN  \n",
       "111         6.68  \n",
       "112         7.29  \n",
       "113          NaN  \n",
       "114         8.31  \n",
       "115          NaN  \n",
       "116         7.20  \n",
       "119         8.23  \n",
       "120          NaN  \n",
       "121          NaN  \n",
       "122          NaN  \n",
       "123          NaN  \n",
       "124          NaN  \n",
       "125         7.51  \n",
       "126         8.87  \n",
       "127        11.24  "
      ]
     },
     "execution_count": 15,
     "metadata": {},
     "output_type": "execute_result"
    }
   ],
   "source": [
    "max_city_country_df = pd.concat(max_city_country_frames)\n",
    "max_city_country_df #dataframe that shows all cities in the max countries"
   ]
  },
  {
   "cell_type": "markdown",
   "metadata": {},
   "source": [
    "3. [10 pts] Fill in the missing temperature values by the average temperature value of the similar region type. A region type would be a combinaton of whether it is in EU (Yes/No) and whether it has a coastline (yes/no). For example, if we have a missing temperature value for Bergen, Norway, which is not in the EU but lies on the coast, we will fill it with the average temperature of cities with EU='No' and coastline='Yes') "
   ]
  },
  {
   "cell_type": "code",
   "execution_count": 16,
   "metadata": {},
   "outputs": [],
   "source": [
    "# tuple: (x, y) -> x = EU, y = coastline\n",
    "region_types = [(\"no\", \"no\"), (\"no\", \"yes\"), (\"yes\", \"yes\"), (\"yes\", \"no\")]"
   ]
  },
  {
   "cell_type": "code",
   "execution_count": 17,
   "metadata": {},
   "outputs": [],
   "source": [
    "region_type_avg_temp_dict = {}\n",
    "for region in region_types:\n",
    "    avg = eu_temp_df.loc[(eu_temp_df[\"EU\"]==region[0]) & (eu_temp_df[\"coastline\"]==region[1]) & (~eu_temp_df[\"temperature\"].isna()), \"temperature\"].mean()\n",
    "    avg = round(avg, 2)\n",
    "    region_type_avg_temp_dict[region] = avg"
   ]
  },
  {
   "cell_type": "code",
   "execution_count": 18,
   "metadata": {},
   "outputs": [],
   "source": [
    "for region in region_types:\n",
    "    eu_temp_df.loc[(eu_temp_df[\"EU\"]==region[0]) & (eu_temp_df[\"coastline\"]==region[1]) & (eu_temp_df[\"temperature\"].isna()), \"temperature\"] = region_type_avg_temp_dict[region]"
   ]
  },
  {
   "cell_type": "code",
   "execution_count": 19,
   "metadata": {},
   "outputs": [
    {
     "data": {
      "text/html": [
       "<div>\n",
       "<style scoped>\n",
       "    .dataframe tbody tr th:only-of-type {\n",
       "        vertical-align: middle;\n",
       "    }\n",
       "\n",
       "    .dataframe tbody tr th {\n",
       "        vertical-align: top;\n",
       "    }\n",
       "\n",
       "    .dataframe thead th {\n",
       "        text-align: right;\n",
       "    }\n",
       "</style>\n",
       "<table border=\"1\" class=\"dataframe\">\n",
       "  <thead>\n",
       "    <tr style=\"text-align: right;\">\n",
       "      <th></th>\n",
       "      <th>city</th>\n",
       "      <th>country</th>\n",
       "      <th>population</th>\n",
       "      <th>EU</th>\n",
       "      <th>coastline</th>\n",
       "      <th>latitude</th>\n",
       "      <th>longitude</th>\n",
       "      <th>temperature</th>\n",
       "    </tr>\n",
       "  </thead>\n",
       "  <tbody>\n",
       "    <tr>\n",
       "      <th>0</th>\n",
       "      <td>Elbasan</td>\n",
       "      <td>Albania</td>\n",
       "      <td>2.90</td>\n",
       "      <td>no</td>\n",
       "      <td>yes</td>\n",
       "      <td>41.12</td>\n",
       "      <td>20.08</td>\n",
       "      <td>15.18</td>\n",
       "    </tr>\n",
       "    <tr>\n",
       "      <th>1</th>\n",
       "      <td>Andorra</td>\n",
       "      <td>Andorra</td>\n",
       "      <td>0.07</td>\n",
       "      <td>no</td>\n",
       "      <td>no</td>\n",
       "      <td>42.50</td>\n",
       "      <td>1.52</td>\n",
       "      <td>7.48</td>\n",
       "    </tr>\n",
       "    <tr>\n",
       "      <th>2</th>\n",
       "      <td>Innsbruck</td>\n",
       "      <td>Austria</td>\n",
       "      <td>8.57</td>\n",
       "      <td>yes</td>\n",
       "      <td>no</td>\n",
       "      <td>47.85</td>\n",
       "      <td>11.41</td>\n",
       "      <td>4.54</td>\n",
       "    </tr>\n",
       "    <tr>\n",
       "      <th>3</th>\n",
       "      <td>Graz</td>\n",
       "      <td>Austria</td>\n",
       "      <td>8.57</td>\n",
       "      <td>yes</td>\n",
       "      <td>no</td>\n",
       "      <td>47.08</td>\n",
       "      <td>14.02</td>\n",
       "      <td>6.91</td>\n",
       "    </tr>\n",
       "    <tr>\n",
       "      <th>4</th>\n",
       "      <td>Linz</td>\n",
       "      <td>Austria</td>\n",
       "      <td>8.57</td>\n",
       "      <td>yes</td>\n",
       "      <td>no</td>\n",
       "      <td>48.32</td>\n",
       "      <td>14.29</td>\n",
       "      <td>6.79</td>\n",
       "    </tr>\n",
       "    <tr>\n",
       "      <th>...</th>\n",
       "      <td>...</td>\n",
       "      <td>...</td>\n",
       "      <td>...</td>\n",
       "      <td>...</td>\n",
       "      <td>...</td>\n",
       "      <td>...</td>\n",
       "      <td>...</td>\n",
       "      <td>...</td>\n",
       "    </tr>\n",
       "    <tr>\n",
       "      <th>208</th>\n",
       "      <td>Edinburgh</td>\n",
       "      <td>United Kingdom</td>\n",
       "      <td>65.11</td>\n",
       "      <td>yes</td>\n",
       "      <td>yes</td>\n",
       "      <td>55.95</td>\n",
       "      <td>-2.94</td>\n",
       "      <td>10.31</td>\n",
       "    </tr>\n",
       "    <tr>\n",
       "      <th>209</th>\n",
       "      <td>Exeter</td>\n",
       "      <td>United Kingdom</td>\n",
       "      <td>65.11</td>\n",
       "      <td>yes</td>\n",
       "      <td>yes</td>\n",
       "      <td>50.70</td>\n",
       "      <td>-3.53</td>\n",
       "      <td>10.14</td>\n",
       "    </tr>\n",
       "    <tr>\n",
       "      <th>210</th>\n",
       "      <td>Inverness</td>\n",
       "      <td>United Kingdom</td>\n",
       "      <td>65.11</td>\n",
       "      <td>yes</td>\n",
       "      <td>yes</td>\n",
       "      <td>53.55</td>\n",
       "      <td>-4.23</td>\n",
       "      <td>8.00</td>\n",
       "    </tr>\n",
       "    <tr>\n",
       "      <th>211</th>\n",
       "      <td>Glasgow</td>\n",
       "      <td>United Kingdom</td>\n",
       "      <td>65.11</td>\n",
       "      <td>yes</td>\n",
       "      <td>yes</td>\n",
       "      <td>55.87</td>\n",
       "      <td>-4.25</td>\n",
       "      <td>8.60</td>\n",
       "    </tr>\n",
       "    <tr>\n",
       "      <th>212</th>\n",
       "      <td>Swansea</td>\n",
       "      <td>United Kingdom</td>\n",
       "      <td>65.11</td>\n",
       "      <td>yes</td>\n",
       "      <td>yes</td>\n",
       "      <td>51.63</td>\n",
       "      <td>-3.95</td>\n",
       "      <td>9.73</td>\n",
       "    </tr>\n",
       "  </tbody>\n",
       "</table>\n",
       "<p>213 rows × 8 columns</p>\n",
       "</div>"
      ],
      "text/plain": [
       "          city         country  population   EU coastline  latitude  \\\n",
       "0      Elbasan         Albania        2.90   no       yes     41.12   \n",
       "1      Andorra         Andorra        0.07   no        no     42.50   \n",
       "2    Innsbruck         Austria        8.57  yes        no     47.85   \n",
       "3         Graz         Austria        8.57  yes        no     47.08   \n",
       "4         Linz         Austria        8.57  yes        no     48.32   \n",
       "..         ...             ...         ...  ...       ...       ...   \n",
       "208  Edinburgh  United Kingdom       65.11  yes       yes     55.95   \n",
       "209     Exeter  United Kingdom       65.11  yes       yes     50.70   \n",
       "210  Inverness  United Kingdom       65.11  yes       yes     53.55   \n",
       "211    Glasgow  United Kingdom       65.11  yes       yes     55.87   \n",
       "212    Swansea  United Kingdom       65.11  yes       yes     51.63   \n",
       "\n",
       "     longitude  temperature  \n",
       "0        20.08        15.18  \n",
       "1         1.52         7.48  \n",
       "2        11.41         4.54  \n",
       "3        14.02         6.91  \n",
       "4        14.29         6.79  \n",
       "..         ...          ...  \n",
       "208      -2.94        10.31  \n",
       "209      -3.53        10.14  \n",
       "210      -4.23         8.00  \n",
       "211      -4.25         8.60  \n",
       "212      -3.95         9.73  \n",
       "\n",
       "[213 rows x 8 columns]"
      ]
     },
     "execution_count": 19,
     "metadata": {},
     "output_type": "execute_result"
    }
   ],
   "source": [
    "eu_temp_df"
   ]
  },
  {
   "cell_type": "markdown",
   "metadata": {},
   "source": [
    "### Visualization (27 pts) \n",
    "##### For all plots, make sure to label the axes, and set appropriate tick labels."
   ]
  },
  {
   "cell_type": "markdown",
   "metadata": {},
   "source": [
    "1. [6 pts] Plot a bar chart for the number of cities belonging to each of the regions described in Preprocessing/Analysis #3 above. "
   ]
  },
  {
   "cell_type": "code",
   "execution_count": 57,
   "metadata": {},
   "outputs": [],
   "source": [
    "region_types_dict = {}\n",
    "for region in region_types:\n",
    "    eu_stat = \"EU\" if region[0].lower()==\"yes\" else \"No EU\"\n",
    "    coast_stat = \"Coastal\" if region[1].lower()==\"yes\" else \"No Coastal\"\n",
    "    key = (eu_stat, coast_stat)\n",
    "    no_cities = len(eu_temp_df[(eu_temp_df[\"EU\"]==region[0]) & (eu_temp_df[\"coastline\"]==region[1])])\n",
    "    region_types_dict[key] = no_cities"
   ]
  },
  {
   "cell_type": "code",
   "execution_count": 58,
   "metadata": {},
   "outputs": [],
   "source": [
    "region_df = DataFrame(region_types_dict.items(), columns=[\"Region Type\", \"No. Cities\"])"
   ]
  },
  {
   "cell_type": "code",
   "execution_count": 80,
   "metadata": {},
   "outputs": [
    {
     "data": {
      "text/plain": [
       "Text(0.5, 1.0, 'Region Type to No. Cities')"
      ]
     },
     "execution_count": 80,
     "metadata": {},
     "output_type": "execute_result"
    },
    {
     "data": {
      "image/png": "[encoded data removed]",
      "text/plain": [
       "<Figure size 720x720 with 1 Axes>"
      ]
     },
     "metadata": {
      "needs_background": "light"
     },
     "output_type": "display_data"
    }
   ],
   "source": [
    "region_bar_axes = region_df.plot.bar(rot=45, figsize=(10,10))\n",
    "region_bar_axes.set_xlabel(\"Region Type\")\n",
    "region_bar_axes.set_xticklabels(region_df[\"Region Type\"])\n",
    "region_bar_axes.set_ylabel(\"No. Cities\")\n",
    "region_bar_axes.set_title(\"Region Type to No. Cities\")"
   ]
  },
  {
   "cell_type": "markdown",
   "metadata": {},
   "source": [
    "2. [7 pts] Plot a scatter plot of latitude (y-axis) v/s longitude (x-axis) values to get a map-like visual of the cities under consideration. All the cities in the same country should have the same color. "
   ]
  },
  {
   "cell_type": "code",
   "execution_count": 23,
   "metadata": {},
   "outputs": [],
   "source": [
    "import matplotlib.cm as cm\n",
    "import matplotlib.colors as colors"
   ]
  },
  {
   "cell_type": "code",
   "execution_count": 24,
   "metadata": {},
   "outputs": [],
   "source": [
    "country_list = eu_temp_df[\"country\"].unique()"
   ]
  },
  {
   "cell_type": "code",
   "execution_count": 25,
   "metadata": {},
   "outputs": [],
   "source": [
    "colormap = cm.viridis\n",
    "color_list = [colors.rgb2hex(colormap(i)) for i in np.linspace(0, 1, len(country_list))]"
   ]
  },
  {
   "cell_type": "code",
   "execution_count": 26,
   "metadata": {},
   "outputs": [],
   "source": [
    "color_dict = {country_list[idx]: color_list[idx] for idx in range(len(color_list))}"
   ]
  },
  {
   "cell_type": "code",
   "execution_count": 75,
   "metadata": {},
   "outputs": [
    {
     "data": {
      "text/plain": [
       "Text(0.5, 1.0, 'Latitude-Longitude Scatterplot for Cities')"
      ]
     },
     "execution_count": 75,
     "metadata": {},
     "output_type": "execute_result"
    },
    {
     "data": {
      "image/png": "[encoded data removed]",
      "text/plain": [
       "<Figure size 720x720 with 1 Axes>"
      ]
     },
     "metadata": {
      "needs_background": "light"
     },
     "output_type": "display_data"
    }
   ],
   "source": [
    "scatter_axes = eu_temp_df.plot.scatter(x=\"latitude\", y=\"longitude\", c=eu_temp_df[\"country\"].map(color_dict), figsize=(10,10))\n",
    "scatter_axes.set_title(\"Latitude-Longitude Scatterplot for Cities\")"
   ]
  },
  {
   "cell_type": "markdown",
   "metadata": {},
   "source": [
    "3. [6 pts] The population column contains values unique to each country. So two cities of the same country will show the same population value. Plot a histogram of the number of countries belonging to each population group: split the population values into 5 bins (groups). "
   ]
  },
  {
   "cell_type": "code",
   "execution_count": 76,
   "metadata": {},
   "outputs": [
    {
     "data": {
      "text/plain": [
       "Text(0.5, 1.0, 'Population Group to No. Countries')"
      ]
     },
     "execution_count": 76,
     "metadata": {},
     "output_type": "execute_result"
    },
    {
     "data": {
      "image/png": "[encoded data removed]",
      "text/plain": [
       "<Figure size 720x720 with 1 Axes>"
      ]
     },
     "metadata": {
      "needs_background": "light"
     },
     "output_type": "display_data"
    }
   ],
   "source": [
    "hist_axes = eu_temp_df.loc[:, [\"country\", \"population\"]].drop_duplicates(\"country\").plot.hist(bins=5, figsize=(10,10))\n",
    "hist_axes.set_xlabel(\"Population Groups\")\n",
    "hist_axes.set_ylabel(\"No. Countries\")\n",
    "hist_axes.set_title(\"Population Group to No. Countries\")"
   ]
  },
  {
   "cell_type": "markdown",
   "metadata": {},
   "source": [
    "4. [8 pts] Plot subplots (2, 2), with proper titles, one each for the region types described in Preprocessing/Analysis #3 above. Each subplot should be a scatter plot of city v/s temperature, where the color of the plot points should be based on the temperature values: ‘red’ for temperatures above 10, ‘blue’ for temperatures below 6 and ‘orange for temperatures between 6 and 10 (both inclusive). For each subplot, set xticks to to an array of numbers from 0 to n (number of cities). "
   ]
  },
  {
   "cell_type": "code",
   "execution_count": 71,
   "metadata": {},
   "outputs": [],
   "source": [
    "no_eu_no_coastal_df = eu_temp_df[(eu_temp_df[\"EU\"]==\"no\") & (eu_temp_df[\"coastline\"]==\"no\")].copy()\n",
    "no_eu_no_coastal_df.loc[:, \"_index\"] = np.arange(len(no_eu_no_coastal_df))\n",
    "\n",
    "no_eu_yes_coastal_df = eu_temp_df[(eu_temp_df[\"EU\"]==\"no\") & (eu_temp_df[\"coastline\"]==\"yes\")].copy()\n",
    "no_eu_yes_coastal_df.loc[:, \"_index\"] = np.arange(len(no_eu_yes_coastal_df))\n",
    "\n",
    "yes_eu_yes_coastal_df = eu_temp_df[(eu_temp_df[\"EU\"]==\"yes\") & (eu_temp_df[\"coastline\"]==\"yes\")].copy()\n",
    "yes_eu_yes_coastal_df.loc[:, \"_index\"] = np.arange(len(yes_eu_yes_coastal_df))\n",
    "\n",
    "yes_eu_no_coastal_df = eu_temp_df[(eu_temp_df[\"EU\"]==\"yes\") & (eu_temp_df[\"coastline\"]==\"no\")].copy()\n",
    "yes_eu_no_coastal_df.loc[:, \"_index\"] = np.arange(len(yes_eu_no_coastal_df))"
   ]
  },
  {
   "cell_type": "code",
   "execution_count": 72,
   "metadata": {},
   "outputs": [],
   "source": [
    "def create_color_list(_df):\n",
    "    _color_list = [(\"red\" if temp > 10 else (\"blue\" if temp < 6 else \"orange\")) for temp in _df[\"temperature\"].to_list()]\n",
    "    return _color_list"
   ]
  },
  {
   "cell_type": "code",
   "execution_count": 79,
   "metadata": {},
   "outputs": [
    {
     "data": {
      "text/plain": [
       "Text(0.5, 0, '')"
      ]
     },
     "execution_count": 79,
     "metadata": {},
     "output_type": "execute_result"
    },
    {
     "data": {
      "image/png": "[encoded data removed]",
      "text/plain": [
       "<Figure size 720x720 with 4 Axes>"
      ]
     },
     "metadata": {
      "needs_background": "light"
     },
     "output_type": "display_data"
    }
   ],
   "source": [
    "fig, axes = plt.subplots(nrows=2, ncols=2, figsize=(10,10))\n",
    "fig.subplots_adjust(hspace=0.3)\n",
    "fig.subplots_adjust(wspace=0.3)\n",
    "\n",
    "no_no_ax = no_eu_no_coastal_df.plot.scatter(x=\"_index\", y=\"temperature\", c=create_color_list(no_eu_no_coastal_df), ax=axes[0,0])\n",
    "no_no_ax.set_title(\"Region Type: (No EU, No Coastal)\")\n",
    "no_no_ax.set_xlabel(\"\")\n",
    "\n",
    "no_yes_ax = no_eu_yes_coastal_df.plot.scatter(x=\"_index\", y=\"temperature\", c=create_color_list(no_eu_yes_coastal_df), ax=axes[0,1])\n",
    "no_yes_ax.set_title(\"Region Type: (No EU, Yes Coastal)\")\n",
    "no_yes_ax.set_xlabel(\"\")\n",
    "\n",
    "yes_yes_ax = yes_eu_yes_coastal_df.plot.scatter(x=\"_index\", y=\"temperature\", c=create_color_list(yes_eu_yes_coastal_df), ax=axes[1,0])\n",
    "yes_yes_ax.set_title(\"Region Type: (Yes EU, Yes Coastal)\")\n",
    "yes_yes_ax.set_xlabel(\"\")\n",
    "\n",
    "yes_no_ax = yes_eu_no_coastal_df.plot.scatter(x=\"_index\", y=\"temperature\", c=create_color_list(yes_eu_no_coastal_df), ax=axes[1,1])\n",
    "yes_no_ax.set_title(\"Region Type: (Yes EU, No Coastal)\")\n",
    "yes_no_ax.set_xlabel(\"\")"
   ]
  },
  {
   "cell_type": "code",
   "execution_count": null,
   "metadata": {},
   "outputs": [],
   "source": []
  }
 ],
 "metadata": {
  "kernelspec": {
   "display_name": "Python 3",
   "language": "python",
   "name": "python3"
  },
  "language_info": {
   "codemirror_mode": {
    "name": "ipython",
    "version": 3
   },
   "file_extension": ".py",
   "mimetype": "text/x-python",
   "name": "python",
   "nbconvert_exporter": "python",
   "pygments_lexer": "ipython3",
   "version": "3.8.5"
  }
 },
 "nbformat": 4,
 "nbformat_minor": 4
}
